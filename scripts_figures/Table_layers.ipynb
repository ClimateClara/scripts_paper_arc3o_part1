{
 "cells": [
  {
   "cell_type": "markdown",
   "metadata": {},
   "source": [
    "Created on Fri Feb 08 12:17 2019\n",
    "\n",
    "Quantify dependence on the amount of layers (tested on 3, 5, 7, 10)\n",
    "\n",
    "@author: Clara Burgard\n"
   ]
  },
  {
   "cell_type": "code",
   "execution_count": null,
   "metadata": {},
   "outputs": [],
   "source": [
    "import numpy as np\n",
    "import xarray as xr\n",
    "import glob"
   ]
  },
  {
   "cell_type": "code",
   "execution_count": null,
   "metadata": {},
   "outputs": [],
   "source": [
    "import sys\n",
    "sys.path.append('../scripts_simulation/')\n",
    "import analysis_functions as ana"
   ]
  },
  {
   "cell_type": "markdown",
   "metadata": {},
   "source": [
    "READ IN THE DATA - REFERENCE (UP TO 100 LAYERS)"
   ]
  },
  {
   "cell_type": "code",
   "execution_count": null,
   "metadata": {},
   "outputs": [],
   "source": [
    "######################### FYI\n",
    "\n",
    "exp_nb='049'\n",
    "\n",
    "#went once through all experiments\n",
    "ee='75N00W-p4'\n",
    "ee2=ee.split(\"-\")[0]\n",
    "\n",
    "subfolder=glob.glob('/home/mpim/m300411/SatSim/git_scripts/Documentation/Experiments/README_exp'+exp_nb+'*.txt')\n",
    "datet = subfolder[0].split(\"_\")[4].split(\".\")[0]\n",
    "inputpath2 = '/work/mh0033/m300411/SatSim/MEMLS_exp/exp'+exp_nb+'_'+ee2+'_'+datet+'/INPUT/netcdf_files/'\n",
    "inputpath = '/work/mh0033/m300411/SatSim/MEMLS_exp/exp'+exp_nb+'_'+ee2+'_'+datet+'/OUTPUT/netcdf_files/'\n",
    "outputpath = '/work/mh0033/m300411/SatSim//MEMLS_exp/exp'+exp_nb+'_'+ee2+'_'+datet+'/RESULTS/'\n",
    "\n",
    "memls_input_FYI_ice = xr.open_dataset(inputpath2+'inputMEMLS_depthidx_'+ee2+'.nc')#.resample(time='1D').mean()\n",
    "memls_input_FYI_orig_ice = xr.open_dataset(inputpath2+'inputMEMLS_'+ee2+'.nc')#.resample(time='1D').mean()\n",
    "memls_output_FYI_ice = xr.open_dataset(inputpath+'outputMEMLS_'+ee2+'_snowno.nc')#.resample(time='1D').mean()\n",
    "timelength_FYI_ice = memls_input_FYI_ice['time']\n",
    "ts_month_FYI_ice = timelength_FYI_ice['time.month']\n",
    "\n"
   ]
  },
  {
   "cell_type": "code",
   "execution_count": null,
   "metadata": {},
   "outputs": [],
   "source": [
    "######################### MYI\n",
    "\n",
    "exp_nb='050'\n",
    "\n",
    "#went once through all experiments\n",
    "ee='NorthPole-p4'\n",
    "ee2=ee.split(\"-\")[0]\n",
    "\n",
    "subfolder=glob.glob('/home/mpim/m300411/SatSim/git_scripts/Documentation/Experiments/README_exp'+exp_nb+'*.txt')\n",
    "datet = subfolder[0].split(\"_\")[4].split(\".\")[0]\n",
    "inputpath = '/work/mh0033/m300411/SatSim/MEMLS_exp/exp'+exp_nb+'_'+ee2+'_'+datet+'/OUTPUT/netcdf_files/'\n",
    "inputpath2 = '/work/mh0033/m300411/SatSim/MEMLS_exp/exp'+exp_nb+'_'+ee2+'_'+datet+'/INPUT/netcdf_files/'\n",
    "outputpath = '/work/mh0033/m300411/SatSim//MEMLS_exp/exp'+exp_nb+'_'+ee2+'_'+datet+'/RESULTS/'\n",
    "\n",
    "memls_input_MYI_ice = xr.open_dataset(inputpath2+'inputMEMLS_depthidx_'+ee2+'.nc')#.resample(time='1D').mean()\n",
    "memls_input_MYI_orig_ice = xr.open_dataset(inputpath2+'inputMEMLS_'+ee2+'.nc')#.resample(time='1D').mean()\n",
    "memls_output_MYI_ice = xr.open_dataset(inputpath+'outputMEMLS_'+ee2+'_snowno.nc')#.resample(time='1D').mean()\n",
    "\n",
    "timelength_ice = memls_input_MYI_ice['time']\n",
    "timelength_MYI_ice = timelength_ice[memls_input_MYI_ice['type'].sel(sens_exp='complex').median('depth')==4.].drop('sens_exp')\n",
    "memls_output_MYI_ice = memls_output_MYI_ice.sel(time=timelength_MYI_ice)\n",
    "memls_input_MYI_ice = memls_input_MYI_ice.sel(time=timelength_MYI_ice)\n",
    "memls_input_MYI_orig_ice = memls_input_MYI_orig_ice.sel(time=timelength_MYI_ice)\n",
    "ts_month_MYI_ice = timelength_MYI_ice['time.month']"
   ]
  },
  {
   "cell_type": "markdown",
   "metadata": {},
   "source": [
    "READ IN THE DATA - EQUIDISTANT LAYERS (3, 5, 7 and 10)"
   ]
  },
  {
   "cell_type": "code",
   "execution_count": null,
   "metadata": {},
   "outputs": [],
   "source": [
    "######################### FYI\n",
    "\n",
    "exp_nb='053'\n",
    "\n",
    "#went once through all experiments\n",
    "ee='75N00W-p4'\n",
    "ee2=ee.split(\"-\")[0]\n",
    "\n",
    "subfolder=glob.glob('/home/mpim/m300411/SatSim/git_scripts/Documentation/Experiments/README_exp'+exp_nb+'*.txt')\n",
    "datet = subfolder[0].split(\"_\")[4].split(\".\")[0]\n",
    "inputpath = '/work/mh0033/m300411/SatSim/MEMLS_exp/exp'+exp_nb+'_'+ee2+'_'+datet+'/OUTPUT/netcdf_files/'\n",
    "outputpath = '/work/mh0033/m300411/SatSim/MEMLS_exp/exp'+exp_nb+'_'+ee2+'_'+datet+'/RESULTS/'\n",
    "\n",
    "layers = [3,5,7,10]\n",
    "\n",
    "dss2 = {}\n",
    "ds_output_FYI = None\n",
    "for ll in layers:\n",
    "        dss2[str(ll)] = xr.open_dataset(inputpath+'outputMEMLS_'+str(ll).zfill(2)+'_'+ee2+'.nc')\n",
    "        dss2[str(ll)] = dss2[str(ll)].expand_dims('layers')\n",
    "        dss2[str(ll)]['layers'] = np.array((ll, ))\n",
    "        if ds_output_FYI is None:\n",
    "            ds_output_FYI = dss2[str(ll)].copy()\n",
    "        else:\n",
    "            ds_output_FYI = xr.concat([ds_output_FYI, dss2[str(ll)]], dim='layers')\n",
    "memls_output_FYI = ds_output_FYI#.resample(time='1D').mean()\n",
    "timelength_FYI = memls_output_FYI['time']\n",
    "ts_month_FYI = timelength_FYI['time.month']"
   ]
  },
  {
   "cell_type": "code",
   "execution_count": null,
   "metadata": {},
   "outputs": [],
   "source": [
    "######################### MYI\n",
    "\n",
    "exp_nb='054'\n",
    "\n",
    "#went once through all experiments\n",
    "ee='NorthPole-p4'\n",
    "ee2=ee.split(\"-\")[0]\n",
    "\n",
    "subfolder=glob.glob('/home/mpim/m300411/SatSim/git_scripts/Documentation/Experiments/README_exp'+exp_nb+'*.txt')\n",
    "datet = subfolder[0].split(\"_\")[4].split(\".\")[0]\n",
    "inputpath = '/work/mh0033/m300411/SatSim/MEMLS_exp/exp'+exp_nb+'_'+ee2+'_'+datet+'/OUTPUT/netcdf_files/'\n",
    "outputpath = '/work/mh0033/m300411/SatSim//MEMLS_exp/exp'+exp_nb+'_'+ee2+'_'+datet+'/RESULTS/'\n",
    "\n",
    "layers = [3,5,7,10]\n",
    "\n",
    "dss2 = {}\n",
    "ds_output_MYI = None\n",
    "for ll in layers:\n",
    "        dss2[str(ll)] = xr.open_dataset(inputpath+'outputMEMLS_'+str(ll).zfill(2)+'_'+ee2+'.nc')\n",
    "        dss2[str(ll)] = dss2[str(ll)].expand_dims('layers')\n",
    "        dss2[str(ll)]['layers'] = np.array((ll, ))\n",
    "        if ds_output_MYI is None:\n",
    "            ds_output_MYI = dss2[str(ll)].copy()\n",
    "        else:\n",
    "            ds_output_MYI = xr.concat([ds_output_MYI, dss2[str(ll)]], dim='layers')\n",
    "memls_output_MYI = ds_output_MYI#.resample(time='1D').mean()\n",
    "\n",
    "memls_output_MYI = memls_output_MYI.sel(time=timelength_MYI_ice)\n",
    "\n",
    "#######################################################################"
   ]
  },
  {
   "cell_type": "markdown",
   "metadata": {},
   "source": [
    "RENAMING THE VARIABLES FOR A CLEARER OUTPUT"
   ]
  },
  {
   "cell_type": "code",
   "execution_count": null,
   "metadata": {},
   "outputs": [],
   "source": [
    "TBV_comp_MYI = memls_output_MYI['tb_v'].sel(frequency=6.9,sens_exp='complex')\n",
    "TBV_comp_MYI_ref = memls_output_MYI_ice['tb_v'].sel(frequency=6.9,sens_exp='complex')\n",
    "TBV_simp_MYI = memls_output_MYI['tb_v'].sel(frequency=6.9,sens_exp='simpleallfunc')\n",
    "TBV_simp_MYI_ref = memls_output_MYI_ice['tb_v'].sel(frequency=6.9,sens_exp='simpleallfunc')\n",
    "TBV_comp_FYI = memls_output_FYI['tb_v'].sel(frequency=6.9,sens_exp='complex')\n",
    "TBV_comp_FYI_ref = memls_output_FYI_ice['tb_v'].sel(frequency=6.9,sens_exp='complex')\n",
    "TBV_simp_FYI = memls_output_FYI['tb_v'].sel(frequency=6.9,sens_exp='simpleallfunc')\n",
    "TBV_simp_FYI_ref = memls_output_FYI_ice['tb_v'].sel(frequency=6.9,sens_exp='simpleallfunc')"
   ]
  },
  {
   "cell_type": "markdown",
   "metadata": {},
   "source": [
    "DIFFERENCE BETWEEN SIMPLIFICATION AND REFERENCE"
   ]
  },
  {
   "cell_type": "code",
   "execution_count": null,
   "metadata": {},
   "outputs": [],
   "source": [
    "diff_MYI = TBV_simp_MYI.sel(time=ana.is_winter(timelength_MYI_ice['time.month'])) - TBV_comp_MYI.sel(time=ana.is_winter(timelength_MYI_ice['time.month']))\n",
    "diff_MYI_ref = TBV_simp_MYI_ref.sel(time=ana.is_winter(timelength_MYI_ice['time.month'])) - TBV_comp_MYI_ref.sel(time=ana.is_winter(timelength_MYI_ice['time.month'])) \n",
    "diff_FYI = TBV_simp_FYI.sel(time=ana.is_winter(timelength_FYI['time.month'])) - TBV_comp_FYI.sel(time=ana.is_winter(timelength_FYI['time.month']))\n",
    "diff_FYI_ref = TBV_simp_FYI_ref.sel(time=ana.is_winter(timelength_FYI_ice['time.month'])) - TBV_comp_FYI_ref.sel(time=ana.is_winter(timelength_FYI_ice['time.month'])) \n"
   ]
  },
  {
   "cell_type": "code",
   "execution_count": null,
   "metadata": {},
   "outputs": [],
   "source": [
    "abs(diff_FYI).mean('time')"
   ]
  },
  {
   "cell_type": "code",
   "execution_count": null,
   "metadata": {},
   "outputs": [],
   "source": [
    "abs(diff_FYI).std('time')"
   ]
  },
  {
   "cell_type": "code",
   "execution_count": null,
   "metadata": {},
   "outputs": [],
   "source": [
    "abs(diff_MYI).mean('time')"
   ]
  },
  {
   "cell_type": "code",
   "execution_count": null,
   "metadata": {},
   "outputs": [],
   "source": [
    "abs(diff_MYI).std('time')"
   ]
  }
 ],
 "metadata": {
  "kernelspec": {
   "display_name": "Python 3",
   "language": "python",
   "name": "python3"
  },
  "language_info": {
   "codemirror_mode": {
    "name": "ipython",
    "version": 3
   },
   "file_extension": ".py",
   "mimetype": "text/x-python",
   "name": "python",
   "nbconvert_exporter": "python",
   "pygments_lexer": "ipython3",
   "version": "3.7.4"
  }
 },
 "nbformat": 4,
 "nbformat_minor": 2
}
