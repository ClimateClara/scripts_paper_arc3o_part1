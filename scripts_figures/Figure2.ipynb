{
 "cells": [
  {
   "cell_type": "code",
   "execution_count": null,
   "metadata": {},
   "outputs": [],
   "source": [
    "\"\"\"\n",
    "Created on Tue Mar 19 15:37 2019\n",
    "\n",
    "Figure showing thickness evolution of snow and ice for paper\n",
    "\n",
    "@author: m300411\n",
    "\"\"\""
   ]
  },
  {
   "cell_type": "code",
   "execution_count": null,
   "metadata": {},
   "outputs": [],
   "source": [
    "import numpy as np\n",
    "import clalib.memls_functions as memls\n",
    "import clalib.simplification_functions as sf\n",
    "import clalib.satsim_analysis_functions as ana\n",
    "import xarray as xr\n",
    "import glob\n",
    "import matplotlib.pyplot as plt\n",
    "import matplotlib as mpl\n",
    "import matplotlib.cm as cm\n",
    "import clalib.satsim_analysis_functions as ana\n",
    "import seaborn as sns"
   ]
  },
  {
   "cell_type": "code",
   "execution_count": null,
   "metadata": {},
   "outputs": [],
   "source": [
    "%matplotlib qt5"
   ]
  },
  {
   "cell_type": "code",
   "execution_count": null,
   "metadata": {},
   "outputs": [],
   "source": [
    "sns.set_context('paper')"
   ]
  },
  {
   "cell_type": "markdown",
   "metadata": {},
   "source": [
    "READ IN THE DATA"
   ]
  },
  {
   "cell_type": "code",
   "execution_count": null,
   "metadata": {},
   "outputs": [],
   "source": [
    "inputpath = '/work/mh0033/m300411/SatSim/MEMLS_exp/Paper_Data/'\n",
    "inputpath_samsim = '/work/mh0033/m300411/SatSim/SAMSIM/'\n",
    "outputpath_fig = '/work/mh0033/m300411/SatSim/MEMLS_exp/Paper_Data/Figures/'"
   ]
  },
  {
   "cell_type": "code",
   "execution_count": null,
   "metadata": {},
   "outputs": [],
   "source": [
    "memls_input_FYI = xr.open_dataset(inputpath+'inputMEMLS_depthidx_75N00W_exp037.nc')#.resample(time='1D').mean()\n",
    "timelength_FYI = memls_input_FYI['time']\n",
    "ts_month_FYI = timelength_FYI['time.month']\n",
    "\n",
    "thick_sn_file_FYI = np.loadtxt(inputpath_samsim+'75N00W-p4/dat_snow.dat') #thick_snow,T_snow,psi_l_snow,psi_s_snow\n",
    "thick_sn_FYI = thick_sn_file_FYI[:,0]\n",
    "thick_sn_FYI[thick_sn_FYI==0] = np.nan\n",
    "\n",
    "memls_input_FYI['thick_snow'] = xr.DataArray(thick_sn_FYI, coords=[original_time], dims=['time'])#.resample(time='1D').mean()\n",
    "\n",
    "memls_input_MYI = xr.open_dataset(inputpath+'inputMEMLS_depthidx_NorthPole_exp038.nc')#.resample(time='1D').mean()\n",
    "timelength_MYI = memls_input_MYI['time']\n",
    "ts_month_MYI = timelength_MYI['time.month']\n",
    "                              \n",
    "thick_sn_file_MYI = np.loadtxt(inputpath_samsim+'NorthPole-p4/dat_snow.dat') #thick_snow,T_snow,psi_l_snow,psi_s_snow\n",
    "thick_sn_MYI = thick_sn_file_MYI[:,0]\n",
    "thick_sn_MYI[thick_sn_MYI==0] = np.nan\n",
    "\n",
    "memls_input_MYI['thick_snow'] = xr.DataArray(thick_sn_MYI, coords=[original_time], dims=['time'])#.resample(time='1D').mean()"
   ]
  },
  {
   "cell_type": "markdown",
   "metadata": {},
   "source": [
    "COMPUTE THE TOTAL THICKNESS FROM THE LAYERS"
   ]
  },
  {
   "cell_type": "code",
   "execution_count": null,
   "metadata": {},
   "outputs": [],
   "source": [
    "tot_thick0 = np.zeros(len(timelength_FYI))\n",
    "for tt,timet in enumerate(timelength_FYI):\n",
    "    print(tt)\n",
    "    a = memls_input_FYI['thickness'].sel(sens_exp='complex',time=timet).dropna(dim='depth',how='any')\n",
    "    if a.size:\n",
    "        tot_thick0[tt] = a.depth.max()  \n",
    "    else:\n",
    "        tot_thick0[tt] = np.nan  \n",
    "tot_thick_FYI = xr.DataArray(tot_thick0,dims=memls_input_FYI['thickness'].sel(sens_exp='complex',depth=0.0).dims)      \n",
    "\n"
   ]
  },
  {
   "cell_type": "code",
   "execution_count": null,
   "metadata": {},
   "outputs": [],
   "source": [
    "tot_thick1 = np.zeros(len(timelength_MYI))\n",
    "for tt,timet in enumerate(timelength_MYI):\n",
    "    print(tt)\n",
    "    a = memls_input_MYI['thickness'].sel(sens_exp='complex',time=timet).dropna(dim='depth',how='any')\n",
    "    if a.size:\n",
    "        tot_thick1[tt] = a.depth.max()  \n",
    "    else:\n",
    "        tot_thick1[tt] = np.nan  \n",
    "tot_thick_MYI = xr.DataArray(tot_thick1,dims=memls_input_MYI['thickness'].sel(sens_exp='complex',depth=0.0).dims)      \n",
    "          "
   ]
  },
  {
   "cell_type": "markdown",
   "metadata": {},
   "source": [
    "PLOT THE TIME EVOLUTION OF THE ICE AND SNOW HEIGHT"
   ]
  },
  {
   "cell_type": "code",
   "execution_count": null,
   "metadata": {},
   "outputs": [],
   "source": [
    "fig, ax = plt.subplots(1, 2, sharex=True, sharey=True,figsize=(8,8/2))\n",
    "ax[0].plot(timelength_FYI,tot_thick_FYI*-1,'k-')\n",
    "ax[0].plot(timelength_FYI,memls_input_FYI['thick_snow'],c='grey')\n",
    "ax[0].axhline(y=0,c='k',linestyle=':')\n",
    "fig.autofmt_xdate()\n",
    "\n",
    "ax[1].plot(timelength_MYI,tot_thick_MYI*-1,'k-')\n",
    "ax[1].plot(timelength_MYI,memls_input_MYI['thick_snow'],c='grey')\n",
    "ax[1].axhline(y=0,c='k',linestyle=':')\n",
    "fig.autofmt_xdate()\n",
    "\n",
    "sns.despine()\n",
    "plt.tight_layout()\n",
    "fig.savefig(outputpath_fig+'snowiceevol_new.pdf',bbox_inches='tight')"
   ]
  }
 ],
 "metadata": {
  "kernelspec": {
   "display_name": "Python 3",
   "language": "python",
   "name": "python3"
  },
  "language_info": {
   "codemirror_mode": {
    "name": "ipython",
    "version": 3
   },
   "file_extension": ".py",
   "mimetype": "text/x-python",
   "name": "python",
   "nbconvert_exporter": "python",
   "pygments_lexer": "ipython3",
   "version": "3.7.4"
  }
 },
 "nbformat": 4,
 "nbformat_minor": 2
}
