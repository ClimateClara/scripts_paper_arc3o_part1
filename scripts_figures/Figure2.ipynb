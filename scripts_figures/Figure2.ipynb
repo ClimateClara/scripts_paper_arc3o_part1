{
 "cells": [
  {
   "cell_type": "markdown",
   "metadata": {},
   "source": [
    "Created on Tue Mar 19 15:37 2019\n",
    "\n",
    "Figure showing thickness evolution of snow and ice for ARC3O Paper part 1 (Figure 2)\n",
    "\n",
    "@author: Clara Burgard"
   ]
  },
  {
   "cell_type": "code",
   "execution_count": 1,
   "metadata": {},
   "outputs": [],
   "source": [
    "import numpy as np\n",
    "import xarray as xr\n",
    "import matplotlib.pyplot as plt\n",
    "import seaborn as sns"
   ]
  },
  {
   "cell_type": "code",
   "execution_count": 2,
   "metadata": {},
   "outputs": [],
   "source": [
    "sns.set_context('paper')"
   ]
  },
  {
   "cell_type": "markdown",
   "metadata": {},
   "source": [
    "READ IN THE DATA"
   ]
  },
  {
   "cell_type": "code",
   "execution_count": 7,
   "metadata": {},
   "outputs": [],
   "source": [
    "inputpath_FYI = '/work/mh0033/m300411/SatSim/data_repo_part1/MEMLS_input_output/exp049_75N00W_20191009/INPUT/netcdf_files/'\n",
    "inputpath_MYI = '/work/mh0033/m300411/SatSim/data_repo_part1/MEMLS_input_output/exp050_NorthPole_20191011/INPUT/netcdf_files/'\n",
    "inputpath_samsim = '/work/mh0033/m300411/SatSim/data_repo_part1/SAMSIM_input_output/SAMSIM_OUTPUT/'\n",
    "outputpath_fig = 'path/to/plots'"
   ]
  },
  {
   "cell_type": "code",
   "execution_count": 8,
   "metadata": {},
   "outputs": [],
   "source": [
    "memls_input_FYI = xr.open_dataset(inputpath_FYI+'inputMEMLS_depthidx_75N00W.nc')\n",
    "timelength_FYI = memls_input_FYI['time']\n",
    "ts_month_FYI = timelength_FYI['time.month']\n",
    "\n",
    "thick_sn_file_FYI = np.loadtxt(inputpath_samsim+'75N00W/dat_snow.dat') #thick_snow,T_snow,psi_l_snow,psi_s_snow\n",
    "thick_sn_FYI = thick_sn_file_FYI[:,0]\n",
    "thick_sn_FYI[thick_sn_FYI==0] = np.nan\n",
    "\n",
    "memls_input_FYI['thick_snow'] = xr.DataArray(thick_sn_FYI, coords=[timelength_FYI], dims=['time'])\n",
    "\n",
    "memls_input_MYI = xr.open_dataset(inputpath_MYI+'inputMEMLS_depthidx_NorthPole.nc')\n",
    "timelength_MYI = memls_input_MYI['time']\n",
    "ts_month_MYI = timelength_MYI['time.month']\n",
    "                              \n",
    "thick_sn_file_MYI = np.loadtxt(inputpath_samsim+'NorthPole/dat_snow.dat') #thick_snow,T_snow,psi_l_snow,psi_s_snow\n",
    "thick_sn_MYI = thick_sn_file_MYI[:,0]\n",
    "thick_sn_MYI[thick_sn_MYI==0] = np.nan\n",
    "\n",
    "memls_input_MYI['thick_snow'] = xr.DataArray(thick_sn_MYI, coords=[timelength_MYI], dims=['time'])"
   ]
  },
  {
   "cell_type": "markdown",
   "metadata": {},
   "source": [
    "COMPUTE THE TOTAL THICKNESS FROM THE LAYERS"
   ]
  },
  {
   "cell_type": "code",
   "execution_count": null,
   "metadata": {},
   "outputs": [],
   "source": [
    "#First-year ice\n",
    "tot_thick0 = np.zeros(len(timelength_FYI)) #timelength is 3285\n",
    "for tt,timet in enumerate(timelength_FYI):\n",
    "    #print(tt)\n",
    "    a = memls_input_FYI['thickness'].sel(sens_exp='complex',time=timet).dropna(dim='depth',how='any')\n",
    "    if a.size:\n",
    "        tot_thick0[tt] = a.depth.max()  \n",
    "    else:\n",
    "        tot_thick0[tt] = np.nan  \n",
    "tot_thick_FYI = xr.DataArray(tot_thick0,dims=memls_input_FYI['thickness'].sel(sens_exp='complex',depth=0.0).dims)      \n",
    "\n"
   ]
  },
  {
   "cell_type": "code",
   "execution_count": null,
   "metadata": {},
   "outputs": [],
   "source": [
    "#Multiyear ice \n",
    "tot_thick1 = np.zeros(len(timelength_MYI)) #timelength is 3285\n",
    "for tt,timet in enumerate(timelength_MYI):\n",
    "    #print(tt)\n",
    "    a = memls_input_MYI['thickness'].sel(sens_exp='complex',time=timet).dropna(dim='depth',how='any')\n",
    "    if a.size:\n",
    "        tot_thick1[tt] = a.depth.max()  \n",
    "    else:\n",
    "        tot_thick1[tt] = np.nan  \n",
    "tot_thick_MYI = xr.DataArray(tot_thick1,dims=memls_input_MYI['thickness'].sel(sens_exp='complex',depth=0.0).dims)      \n",
    "          "
   ]
  },
  {
   "cell_type": "markdown",
   "metadata": {},
   "source": [
    "Mask out the thickness peaks around snow melting"
   ]
  },
  {
   "cell_type": "code",
   "execution_count": null,
   "metadata": {},
   "outputs": [],
   "source": [
    "#First-year ice\n",
    "tot_thick_FYI.plot() \n",
    "#FYI: 654,687;1368,1407;2116,2146;2805,2879"
   ]
  },
  {
   "cell_type": "code",
   "execution_count": null,
   "metadata": {},
   "outputs": [],
   "source": [
    "#Multiyear ice\n",
    "tot_thick_MYI.plot() \n",
    "#MYI: 685,716;1420,1440;2152,2177;2874,2903"
   ]
  },
  {
   "cell_type": "code",
   "execution_count": null,
   "metadata": {},
   "outputs": [],
   "source": [
    "timerange_ok_FYI = np.array([i for j in (range(0,655),range(687,1369),range(1407,2117),range(2146,2806),range(2879,3285)) for i in j])\n",
    "timerange_ok_MYI = np.array([i for j in (range(0,685),range(716,1421),range(1440,2153),range(2177,2874),range(2903,3285)) for i in j])\n",
    "\n",
    "timerange_notok_FYI = np.array([i for j in (range(655,687),range(1369,1407),range(2117,2146),range(2806,2879)) for i in j])\n",
    "timerange_notok_MYI = np.array([i for j in (range(685,716),range(1421,1440),range(2153,2177),range(2874,2903)) for i in j])"
   ]
  },
  {
   "cell_type": "code",
   "execution_count": null,
   "metadata": {},
   "outputs": [],
   "source": [
    "tot_thick_FYI_masked = tot_thick_FYI.copy()\n",
    "tot_thick_FYI_masked[timerange_notok_FYI] = np.nan\n",
    "\n",
    "tot_thick_MYI_masked = tot_thick_MYI.copy()\n",
    "tot_thick_MYI_masked[timerange_notok_MYI] = np.nan"
   ]
  },
  {
   "cell_type": "markdown",
   "metadata": {},
   "source": [
    "PLOT THE TIME EVOLUTION OF THE ICE AND SNOW HEIGHT"
   ]
  },
  {
   "cell_type": "code",
   "execution_count": null,
   "metadata": {},
   "outputs": [],
   "source": [
    "fig, ax = plt.subplots(1, 2, sharex=True, sharey=True,figsize=(8,8/2))\n",
    "ax[0].plot(timelength_FYI,tot_thick_FYI_masked*-1,'k-')\n",
    "ax[0].plot(timelength_FYI,memls_input_FYI['thick_snow'],'k--')\n",
    "ax[0].axhline(y=0,c='k',linestyle=':')\n",
    "fig.autofmt_xdate()\n",
    "ax[0].set_ylabel('Sea ice depth and snow thickness [m]')\n",
    "\n",
    "ax[1].plot(timelength_MYI,tot_thick_MYI_masked*-1,'k-')\n",
    "ax[1].plot(timelength_MYI,memls_input_MYI['thick_snow'],'k--')\n",
    "ax[1].axhline(y=0,c='k',linestyle=':')\n",
    "fig.autofmt_xdate()\n",
    "\n",
    "sns.despine()\n",
    "plt.tight_layout()\n",
    "#fig.savefig(outputpath_fig+'Figure2.pdf',bbox_inches='tight')"
   ]
  },
  {
   "cell_type": "code",
   "execution_count": null,
   "metadata": {},
   "outputs": [],
   "source": []
  }
 ],
 "metadata": {
  "kernelspec": {
   "display_name": "Python 3",
   "language": "python",
   "name": "python3"
  },
  "language_info": {
   "codemirror_mode": {
    "name": "ipython",
    "version": 3
   },
   "file_extension": ".py",
   "mimetype": "text/x-python",
   "name": "python",
   "nbconvert_exporter": "python",
   "pygments_lexer": "ipython3",
   "version": "3.7.4"
  }
 },
 "nbformat": 4,
 "nbformat_minor": 2
}
